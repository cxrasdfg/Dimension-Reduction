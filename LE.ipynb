{
 "cells": [
  {
   "cell_type": "code",
   "execution_count": 2,
   "metadata": {
    "collapsed": true
   },
   "outputs": [],
   "source": [
    "import matplotlib.pyplot as plt  \n",
    "import numpy as np\n",
    "from sklearn import datasets,decomposition,manifold\n",
    "from andylearn import mnist, neighbor\n",
    "import math\n",
    "from mpl_toolkits.mplot3d import Axes3D\n",
    "#%matplotlib inline"
   ]
  },
  {
   "cell_type": "code",
   "execution_count": 26,
   "metadata": {
    "collapsed": true
   },
   "outputs": [],
   "source": [
    "def LE(data, k, d):\n",
    "    '''\n",
    "    data is the original data. m*n(m=samples, n=dimensions)\n",
    "    '''\n",
    "    data = np.matrix(data)\n",
    "    \n",
    "    N = data.shape[0]\n",
    "    D = data.shape[1]\n",
    "    # step 1\n",
    "    # find the nearest neighbors (k). Here we get the distance from (x-y)^2\n",
    "    # distance N*N\n",
    "    data_tmp = np.sum(np.multiply(data, data), axis=1)\n",
    "    distance=np.mat(data_tmp + data_tmp.T - 2*data*data.T)\n",
    "    sort_index = np.argsort(distance,axis=1)\n",
    "    # k nearest neibors\n",
    "    neibors = sort_index[:,1:k+1]\n",
    "    \n",
    "    # step 2\n",
    "    # weights\n",
    "    W=np.zeros([N,N])\n",
    "    D=np.zeros([N,N])\n",
    "    for i in range(N):\n",
    "        for j in neibors[i].A[0]:\n",
    "            W[i, j] = math.exp(-distance[i, j]/5)\n",
    "            W[j, i] =  W[i, j]\n",
    "    for i in range(N):\n",
    "        for j in range(N):     \n",
    "            D[i, i] +=W[i, j] \n",
    "        \n",
    "    # Step 3\n",
    "    # eigen \n",
    "    L=D-W\n",
    "    X=np.dot(np.mat(D).I, L)  \n",
    "    eigenValues, eigenVectors=np.linalg.eig(X)\n",
    "    eigenValuesIndex = np.argsort(eigenValues)  \n",
    "    output = np.mat(eigenVectors[:, eigenValuesIndex[1:d+1]])\n",
    "    print(\"LE done\")\n",
    "    return output\n"
   ]
  },
  {
   "cell_type": "code",
   "execution_count": 27,
   "metadata": {},
   "outputs": [],
   "source": [
    "def LE_MNIST_2D():\n",
    "\n",
    "    data, labels = mnist.load_mnist_data(\"./data/mnist/train-images\", \"./data/mnist/train-labels\", 2000)\n",
    "    # normalize\n",
    "    data = data/256\n",
    "    low_data = LE(data, 5, 2)\n",
    "\n",
    "\n",
    "    # draw the scatters\n",
    "    print(\"drawing\")\n",
    "    fig = plt.figure(figsize=(10,7))\n",
    "    plotwindow = fig.add_subplot(111)\n",
    "    a = np.array(low_data)\n",
    "    color = ['green','dodgerblue','chartreuse','turquoise','orange','coral','salmon','darkgray','darkred','mediumpurple']\n",
    "    marker = [\"$0$\",\"$1$\",\"$2$\",\"$3$\",\"$4$\",\"$5$\",\"$6$\",\"$7$\",\"$8$\",\"$9$\"]\n",
    "    for j in range(len(low_data)):\n",
    "        plt.scatter(a[j][0], a[j][1],s=40, c=color[labels[j]],marker=marker[labels[j]])\n",
    "    plt.show()\n",
    "#LE_MNIST_2D()"
   ]
  },
  {
   "cell_type": "code",
   "execution_count": 30,
   "metadata": {},
   "outputs": [
    {
     "name": "stdout",
     "output_type": "stream",
     "text": [
      "data loaded\n",
      "LE done\n",
      "KNN score 0.865\n"
     ]
    }
   ],
   "source": [
    "def LE_MNIST_acuracy(k, d):\n",
    "    data, labels = mnist.load_mnist_data(\"./data/mnist/train-images\", \"./data/mnist/train-labels\", 2000)\n",
    "    # normalize\n",
    "    data = data/256\n",
    "    low_data = LE(data, k, d)\n",
    "    s = neighbor.accuracy(low_data[0:1000], labels[0:1000], low_data[1000:2000], labels[1000:2000], 1)   \n",
    "    print(\"KNN score\",s)\n",
    "LE_MNIST_acuracy(5, 10)"
   ]
  },
  {
   "cell_type": "code",
   "execution_count": null,
   "metadata": {
    "collapsed": true
   },
   "outputs": [],
   "source": []
  }
 ],
 "metadata": {
  "kernelspec": {
   "display_name": "Python 3",
   "language": "python",
   "name": "python3"
  },
  "language_info": {
   "codemirror_mode": {
    "name": "ipython",
    "version": 3
   },
   "file_extension": ".py",
   "mimetype": "text/x-python",
   "name": "python",
   "nbconvert_exporter": "python",
   "pygments_lexer": "ipython3",
   "version": "3.6.3"
  }
 },
 "nbformat": 4,
 "nbformat_minor": 2
}
