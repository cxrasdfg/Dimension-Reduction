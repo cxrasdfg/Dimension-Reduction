{
 "cells": [
  {
   "cell_type": "code",
   "execution_count": 1,
   "metadata": {
    "collapsed": true
   },
   "outputs": [],
   "source": [
    "import numpy as np\n",
    "import matplotlib.pyplot as plt\n",
    "import pylab\n",
    "import scipy.io as sio\n",
    "import scipy\n",
    "from sklearn import neighbors\n",
    "#%matplotlib inline"
   ]
  },
  {
   "cell_type": "code",
   "execution_count": 8,
   "metadata": {},
   "outputs": [],
   "source": [
    "def LDE(data, label, k, d, t):\n",
    "    '''\n",
    "    data is the original data. m*n(m=samples, n=dimensions)\n",
    "    '''\n",
    "    data = np.matrix(data)\n",
    "    N = data.shape[0]\n",
    "    Dim = data.shape[1]\n",
    "    \n",
    "    # step 1\n",
    "    # find the nearest neighbors (k). Here we get the distance from (x-y)^2\n",
    "    # distance N*N\n",
    "   \n",
    "    data_tmp = np.sum(np.multiply(data, data), axis=1)\n",
    "    distance=np.mat(data_tmp + data_tmp.T - 2*data*data.T)\n",
    "    \n",
    "    # the all neibors N\n",
    "    neibors = np.argsort(distance,axis=1)\n",
    "    \n",
    "    \n",
    "    # step 2\n",
    "    # weights\n",
    "    \n",
    "    W=np.zeros([N,N])\n",
    "    D=np.zeros([N,N])\n",
    "    K=0\n",
    "    W_=np.zeros([N,N])\n",
    "    D_=np.zeros([N,N])\n",
    "    K_=0\n",
    "    for i in range(N):\n",
    "        for j in neibors[i].A[0]:\n",
    "            if(K<k and label[j]==label[i]):\n",
    "                W[i, j] = math.exp(-distance[i, j]/t)\n",
    "                W[j, i] = math.exp(-distance[i, j]/t) \n",
    "                K+=1\n",
    "            elif(K_<k and label[j]!=label[i]):\n",
    "                W_[i, j] = math.exp(-distance[i, j]/t)\n",
    "                W_[j, i] = math.exp(-distance[i, j]/t) \n",
    "                K_+=1\n",
    "            elif(K==k and K_==k):\n",
    "                break\n",
    "            else:\n",
    "                continue\n",
    "    \n",
    "    for i in range(N):\n",
    "        for j in range(N):\n",
    "            D[i, i] +=W[i, j] \n",
    "            D_[i, i] +=W_[i, j]\n",
    "    \n",
    "    # Step 3\n",
    "    # mappings \n",
    "    \n",
    "    L=D-W\n",
    "    L_=D_-W_\n",
    "    eigenValues, eigenVectors=scipy.linalg.eig(np.dot(np.dot(data^T, L_), data), np.dot(np.dot(data^T, L)))\n",
    "    eigenValuesSort=np.argsort(-eigenValues)\n",
    "    mapping = eigenVectors[:, eigenValuesIndex[0:d]].T\n",
    "    \n",
    "    return mapping"
   ]
  },
  {
   "cell_type": "code",
   "execution_count": 10,
   "metadata": {},
   "outputs": [
    {
     "name": "stdout",
     "output_type": "stream",
     "text": [
      "(165, 1024)\n",
      "(165,)\n"
     ]
    }
   ],
   "source": [
    "data=sio.loadmat(\"Yale_32x32.mat\")\n",
    "face = data['fea']\n",
    "label = data['gnd']\n",
    "label = np.squeeze(label)\n",
    "print(face.shape)\n",
    "print(label.shape)"
   ]
  },
  {
   "cell_type": "code",
   "execution_count": null,
   "metadata": {
    "collapsed": true
   },
   "outputs": [],
   "source": []
  }
 ],
 "metadata": {
  "kernelspec": {
   "display_name": "Python 3",
   "language": "python",
   "name": "python3"
  },
  "language_info": {
   "codemirror_mode": {
    "name": "ipython",
    "version": 3
   },
   "file_extension": ".py",
   "mimetype": "text/x-python",
   "name": "python",
   "nbconvert_exporter": "python",
   "pygments_lexer": "ipython3",
   "version": "3.6.3"
  }
 },
 "nbformat": 4,
 "nbformat_minor": 2
}
