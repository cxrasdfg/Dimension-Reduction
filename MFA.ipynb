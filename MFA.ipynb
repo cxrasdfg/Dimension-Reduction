{
 "cells": [
  {
   "cell_type": "code",
   "execution_count": 2,
   "metadata": {
    "collapsed": true
   },
   "outputs": [],
   "source": [
    "import numpy as np\n",
    "import random\n",
    "import matplotlib.pyplot as plt\n",
    "import pylab\n",
    "import scipy.io as sio\n",
    "import scipy.linalg as slg\n",
    "import math\n",
    "from andylearn import mnist, KNNneighbor, PCA\n",
    "#%matplotlib inline"
   ]
  },
  {
   "cell_type": "code",
   "execution_count": 3,
   "metadata": {
    "collapsed": true
   },
   "outputs": [],
   "source": [
    "data=sio.loadmat(\"data/orl_faces/32_32/ORL_32x32.mat\")\n",
    "face = data['fea']/256\n",
    "face = np.squeeze(face)\n",
    "label = data['gnd']"
   ]
  },
  {
   "cell_type": "code",
   "execution_count": 4,
   "metadata": {
    "collapsed": true
   },
   "outputs": [],
   "source": [
    "def MFA(data, label, k_1, k_2, d, pca_op=1):\n",
    "    # Number of samples N; Dimensions D; Clases c\n",
    "    data= np.matrix(data)\n",
    "    [N, Dim] = data.shape\n",
    "    classes = np.unique(label)\n",
    "    c = len(classes)\n",
    "    \n",
    "    #PCA \n",
    "    if(pca_op==1):\n",
    "        mapping_pca, data_pca, average = PCA.PCA(data, N - c)\n",
    "    else:\n",
    "        data_pca = data\n",
    "    \n",
    "    \n",
    "    # neighbors\n",
    "    data_tmp = np.sum(np.multiply(data_pca, data_pca), axis=1)\n",
    "    distance=np.mat(data_tmp + data_tmp.T - 2*data_pca*data_pca.T)\n",
    "    \n",
    "    # the all neibors N\n",
    "    neighbors = np.argsort(distance,axis=1)\n",
    "    neighbors = neighbors[:, 1:]\n",
    "    \n",
    "    W = np.zeros((N, N)) \n",
    "    W_ = np.zeros((N, N))\n",
    "    D = np.zeros((N, N)) \n",
    "    D_ = np.zeros((N, N))\n",
    "    \n",
    "    #  W \n",
    "    for i in range(N):\n",
    "        K_1 = 0\n",
    "        for j in neighbors[i].A[0]:\n",
    "            if (label[j]==label[i]):\n",
    "                if(K_1 < k_1):\n",
    "                    W[i, j] = 1\n",
    "                    W[j, i] = 1\n",
    "                    K_1 += 1\n",
    "    \n",
    "    #  W_\n",
    "    for c in classes:\n",
    "        K_2 = 0\n",
    "        class_c = np.array(np.where(label == c))[0]\n",
    "        while K_2 < k_2:\n",
    "            min_dis=np.max(distance)\n",
    "            x=0\n",
    "            y=0\n",
    "            for i in class_c:\n",
    "                for j in range(N):\n",
    "                    if (label[j]!=label[i] and min_dis > distance[i, j] and W_[i, j]!=1):\n",
    "                        min_dis = distance[i, j]\n",
    "                        x = i\n",
    "                        y = j\n",
    "            W_[x, y] = 1\n",
    "            W_[y, x] = 1\n",
    "            K_2 += 1\n",
    "    for i in range(N):\n",
    "        for j in range(N):\n",
    "            D[i, i] += W[i, j]\n",
    "            D_[i, i] += W_[i, j]\n",
    "    \n",
    "    L = D-W\n",
    "    L_ = D_-W_\n",
    "    X_1 = np.dot(np.dot(data_pca.T, L), data_pca)\n",
    "    X_2 = np.dot(np.dot(data_pca.T, L_), data_pca).I\n",
    "    eigenvalues, eigenvectors = np.linalg.eig(np.dot(X_2, X_1))\n",
    "    sort_eig = np.argsort(eigenvalues)\n",
    "    mapping = eigenvectors[:, sort_eig[:d]]\n",
    "    if(pca_op==1):\n",
    "        return np.dot(mapping_pca, mapping)\n",
    "    else:\n",
    "        return mapping"
   ]
  },
  {
   "cell_type": "code",
   "execution_count": 12,
   "metadata": {},
   "outputs": [
    {
     "name": "stderr",
     "output_type": "stream",
     "text": [
      "/home/huangzhenyu/anaconda3/lib/python3.6/site-packages/numpy/core/numeric.py:531: ComplexWarning: Casting complex values to real discards the imaginary part\n",
      "  return array(a, dtype, copy=False, order=order)\n",
      "/home/huangzhenyu/anaconda3/lib/python3.6/site-packages/sklearn/utils/validation.py:433: ComplexWarning: Casting complex values to real discards the imaginary part\n",
      "  array = np.array(array, dtype=dtype, order=order, copy=copy)\n"
     ]
    },
    {
     "name": "stdout",
     "output_type": "stream",
     "text": [
      "0.728125\n",
      "0.75625\n",
      "0.6875\n",
      "0.746875\n",
      "0.675\n",
      "0.665625\n",
      "0.7375\n",
      "0.771875\n",
      "0.73125\n",
      "0.771875\n",
      "0.715625\n",
      "0.728125\n",
      "0.684375\n",
      "0.69375\n",
      "0.73125\n",
      "0.684375\n",
      "0.753125\n",
      "0.659375\n",
      "0.665625\n",
      "0.746875\n",
      "0.721875\n",
      "0.728125\n",
      "0.71875\n",
      "0.684375\n",
      "0.734375\n",
      "0.796875\n",
      "0.7\n",
      "0.78125\n",
      "0.771875\n",
      "0.69375\n",
      "0.69375\n",
      "0.70625\n",
      "0.71875\n",
      "0.703125\n",
      "0.7625\n",
      "0.7125\n",
      "0.715625\n",
      "0.728125\n",
      "0.721875\n",
      "0.6875\n",
      "0.75\n",
      "0.728125\n",
      "0.709375\n",
      "0.721875\n",
      "0.7625\n",
      "0.68125\n",
      "0.778125\n",
      "0.7375\n",
      "0.65\n",
      "0.65625\n",
      "s 0.7198125\n"
     ]
    }
   ],
   "source": [
    "def MFA_ORL_accuracy(l):\n",
    "    ## 32 * 32 ORL_faces \n",
    "    s=0.0\n",
    "    for i in range(50):\n",
    "        matfn = 'data/orl_faces/32_32/'+str(l)+'Train/'+str(i+1)+'.mat'\n",
    "        index = sio.loadmat(matfn)\n",
    "        testIdx = index['testIdx'] -1  \n",
    "        trainIdx = index['trainIdx'] -1\n",
    "          \n",
    "        trainface = np.squeeze(face[trainIdx])\n",
    "        trainlabel = np.squeeze(label[trainIdx])\n",
    "        \n",
    "        testface = np.squeeze(face[testIdx])\n",
    "        testlabel = np.squeeze(label[testIdx]) \n",
    "        \n",
    "        mapping = MFA(trainface, trainlabel, 10, 10, 42)\n",
    "        traindata = np.dot(trainface, mapping)\n",
    "        testdata = np.dot(testface, mapping)\n",
    "        tmp=KNNneighbor.accuracy(traindata, trainlabel, testdata, testlabel, 1)\n",
    "        \n",
    "        print(tmp)\n",
    "        s+=tmp\n",
    "    return s/50\n",
    "\n",
    "s = MFA_ORL_accuracy(2)\n",
    "print(\"s\", s)"
   ]
  },
  {
   "cell_type": "code",
   "execution_count": null,
   "metadata": {
    "collapsed": true
   },
   "outputs": [],
   "source": []
  }
 ],
 "metadata": {
  "kernelspec": {
   "display_name": "Python 3",
   "language": "python",
   "name": "python3"
  },
  "language_info": {
   "codemirror_mode": {
    "name": "ipython",
    "version": 3
   },
   "file_extension": ".py",
   "mimetype": "text/x-python",
   "name": "python",
   "nbconvert_exporter": "python",
   "pygments_lexer": "ipython3",
   "version": "3.6.3"
  }
 },
 "nbformat": 4,
 "nbformat_minor": 2
}
