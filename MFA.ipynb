{
 "cells": [
  {
   "cell_type": "code",
   "execution_count": 229,
   "metadata": {
    "collapsed": true
   },
   "outputs": [],
   "source": [
    "import numpy as np\n",
    "import random\n",
    "import matplotlib.pyplot as plt\n",
    "import pylab\n",
    "import scipy.io as sio\n",
    "import scipy.linalg as slg\n",
    "import math\n",
    "from andylearn import mnist, KNNneighbor, PCA\n",
    "#%matplotlib inline"
   ]
  },
  {
   "cell_type": "code",
   "execution_count": 269,
   "metadata": {
    "collapsed": true
   },
   "outputs": [],
   "source": [
    "data=sio.loadmat(\"data/orl_faces/32_32/ORL_32x32.mat\")\n",
    "face = data['fea']/256\n",
    "face = np.squeeze(face)\n",
    "label = data['gnd']"
   ]
  },
  {
   "cell_type": "code",
   "execution_count": 270,
   "metadata": {
    "collapsed": true
   },
   "outputs": [],
   "source": [
    "def MFA(data, label, k_1, k_2, d, pca_op=1):\n",
    "    # Number of samples N; Dimensions D; Clases c\n",
    "    data= np.matrix(data)\n",
    "    [N, Dim] = data.shape\n",
    "    classes = np.unique(label)\n",
    "    c = len(classes)\n",
    "    \n",
    "    #PCA \n",
    "    if(pca_op==1):\n",
    "        mapping_pca, data_pca, average = PCA.PCA(data, N - c)\n",
    "    else:\n",
    "        data_pca = data\n",
    "    \n",
    "    \n",
    "    # neighbors\n",
    "    data_tmp = np.sum(np.multiply(data_pca, data_pca), axis=1)\n",
    "    distance=np.mat(data_tmp + data_tmp.T - 2*data_pca*data_pca.T)\n",
    "    \n",
    "    # the all neibors N\n",
    "    neighbors = np.argsort(distance,axis=1)\n",
    "    neighbors = neighbors[:, 1:]\n",
    "    \n",
    "    W = np.zeros((N, N)) \n",
    "    W_ = np.zeros((N, N))\n",
    "    D = np.zeros((N, N)) \n",
    "    D_ = np.zeros((N, N))\n",
    "    \n",
    "    #  W \n",
    "    for i in range(N):\n",
    "        K_1 = 0\n",
    "        for j in neighbors[i].A[0]:\n",
    "            if (label[j]==label[i]):\n",
    "                if(K_1 < k_1):\n",
    "                    W[i, j] = 1\n",
    "                    W[j, i] = 1\n",
    "                    K_1 += 1\n",
    "    \n",
    "    #  W_\n",
    "    for c in classes:\n",
    "        K_2 = 0\n",
    "        class_c = np.array(np.where(label == c))[0]\n",
    "        while K_2 < k_2:\n",
    "            min_dis=np.max(distance)\n",
    "            x=0\n",
    "            y=0\n",
    "            for i in class_c:\n",
    "                for j in range(N):\n",
    "                    if (label[j]!=label[i] and min_dis > distance[i, j] and W_[i, j]!=1):\n",
    "                        min_dis = distance[i, j]\n",
    "                        x = i\n",
    "                        y = j\n",
    "            W_[x, y] = 1\n",
    "            W_[y, x] = 1\n",
    "            K_2 += 1\n",
    "    for i in range(N):\n",
    "        for j in range(N):\n",
    "            D[i, i] += W[i, j]\n",
    "            D_[i, i] += W_[i, j]\n",
    "    \n",
    "    L = D-W\n",
    "    L_ = D_-W_\n",
    "    X_1 = np.dot(np.dot(data_pca.T, L), data_pca)\n",
    "    X_2 = np.dot(np.dot(data_pca.T, L_), data_pca).I\n",
    "    eigenvalues, eigenvectors = np.linalg.eig(np.dot(X_2, X_1))\n",
    "    sort_eig = np.argsort(eigenvalues)\n",
    "    mapping = eigenvectors[:, sort_eig[:d]]\n",
    "    if(pca_op==1):\n",
    "        return np.dot(mapping_pca, mapping)\n",
    "    else:\n",
    "        return mapping"
   ]
  },
  {
   "cell_type": "code",
   "execution_count": 278,
   "metadata": {},
   "outputs": [
    {
     "name": "stderr",
     "output_type": "stream",
     "text": [
      "/home/huangzhenyu/anaconda3/lib/python3.6/site-packages/numpy/core/numeric.py:531: ComplexWarning: Casting complex values to real discards the imaginary part\n",
      "  return array(a, dtype, copy=False, order=order)\n",
      "/home/huangzhenyu/anaconda3/lib/python3.6/site-packages/sklearn/utils/validation.py:433: ComplexWarning: Casting complex values to real discards the imaginary part\n",
      "  array = np.array(array, dtype=dtype, order=order, copy=copy)\n"
     ]
    },
    {
     "name": "stdout",
     "output_type": "stream",
     "text": [
      "0.9375\n",
      "0.95625\n",
      "0.93125\n",
      "0.975\n",
      "0.94375\n",
      "0.96875\n",
      "0.925\n",
      "0.94375\n",
      "0.91875\n",
      "0.95625\n",
      "s 0.945625\n"
     ]
    }
   ],
   "source": [
    "def MFA_ORL_acuracy(l):\n",
    "    ## 32 * 32 ORL_faces \n",
    "    s=0.0\n",
    "    for i in range(10):\n",
    "        matfn = 'data/orl_faces/32_32/'+str(l)+'Train/'+str(i+1)+'.mat'\n",
    "        index = sio.loadmat(matfn)\n",
    "        testIdx = index['testIdx'] -1  \n",
    "        trainIdx = index['trainIdx'] -1\n",
    "          \n",
    "        trainface = np.squeeze(face[trainIdx])\n",
    "        trainlabel = np.squeeze(label[trainIdx])\n",
    "        \n",
    "        testface = np.squeeze(face[testIdx])\n",
    "        testlabel = np.squeeze(label[testIdx]) \n",
    "        \n",
    "        mapping = MFA(trainface, trainlabel, 10, 20, 42)\n",
    "        traindata = np.dot(trainface, mapping)\n",
    "        testdata = np.dot(testface, mapping)\n",
    "        tmp=KNNneighbor.accuracy(traindata, trainlabel, testdata, testlabel, 1)\n",
    "        \n",
    "        print(tmp)\n",
    "        s+=tmp\n",
    "    return s/10\n",
    "\n",
    "s = MFA_ORL_acuracy(6)\n",
    "print(\"s\", s)"
   ]
  },
  {
   "cell_type": "markdown",
   "metadata": {
    "collapsed": true
   },
   "source": [
    "### The shortcoming of MFA"
   ]
  },
  {
   "cell_type": "code",
   "execution_count": 244,
   "metadata": {},
   "outputs": [
    {
     "data": {
      "image/png": "[encoded data removed]",
      "text/plain": [
       "<matplotlib.figure.Figure at 0x7f783c7d6438>"
      ]
     },
     "metadata": {},
     "output_type": "display_data"
    },
    {
     "data": {
      "image/png": "[encoded data removed]",
      "text/plain": [
       "<matplotlib.figure.Figure at 0x7f783c0162e8>"
      ]
     },
     "metadata": {},
     "output_type": "display_data"
    }
   ],
   "source": [
    "original_data = []\n",
    "label = []\n",
    "N=20\n",
    "for i in range(N):\n",
    "    x = random.randint(35, 50)\n",
    "    y = random.randint(0, 50)\n",
    "    original_data.append([x, y])\n",
    "    label.append(1)\n",
    "for i in range(N):\n",
    "    x = random.randint(50, 65)\n",
    "    y = random.randint(0, 50)\n",
    "    original_data.append([x, y])\n",
    "    label.append(2)\n",
    "for i in range(N):\n",
    "    x = random.randint(35, 50)\n",
    "    y = random.randint(150, 200)\n",
    "    original_data.append([x, y])\n",
    "    label.append(3)\n",
    "for i in range(N):\n",
    "    x = random.randint(50, 65)\n",
    "    y = random.randint(150, 200)\n",
    "    original_data.append([x, y])\n",
    "    label.append(4)\n",
    "\n",
    "\n",
    "original_data=np.matrix(original_data)\n",
    "\n",
    "mapping = MFA(original_data, label, 3, 1, 1, pca_op=0)\n",
    "low_data = np.dot(original_data, mapping)\n",
    "fig = plt.figure()\n",
    "plotwindow = fig.add_subplot(111)\n",
    "\n",
    "a = np.array(low_data)\n",
    "# draw the scatters\n",
    "color = ['red','skyblue','orange','turquoise']\n",
    "for j in range(len(a)):\n",
    "    plt.scatter(a[j][0],50,c=color[label[j]-1],s=20)\n",
    "plt.show()\n",
    "\n",
    "a = np.array(original_data)\n",
    "# draw the scatters\n",
    "color = ['red','skyblue','orange','turquoise']\n",
    "for j in range(80):\n",
    "    plt.scatter(a[j][0],a[j][1],c=color[label[j]-1],s=20)\n",
    "\n",
    "plt.show()"
   ]
  },
  {
   "cell_type": "code",
   "execution_count": 258,
   "metadata": {},
   "outputs": [
    {
     "data": {
      "image/png": "[encoded data removed]",
      "text/plain": [
       "<matplotlib.figure.Figure at 0x7f783c78a7b8>"
      ]
     },
     "metadata": {},
     "output_type": "display_data"
    }
   ],
   "source": [
    "a = np.array(low_data)\n",
    "# draw the scatters\n",
    "color = ['red','skyblue','orange','turquoise']\n",
    "\n",
    "\n",
    "#for j in range(20):\n",
    "#    plt.scatter(a[j][0], 0, c=color[label[j]-1], s=20)\n",
    "for j in range(20, 40):\n",
    "    plt.scatter(a[j][0], 0, c=color[label[j]-1], s=20)\n",
    "for j in range(40, 60):\n",
    "    plt.scatter(a[j][0], 0,c=color[label[j]-1],s=20)\n",
    "# for j in range(60, 80):\n",
    "#     plt.scatter(a[j][0], 0,c=color[label[j]-1],s=20)\n",
    "plt.show()"
   ]
  }
 ],
 "metadata": {
  "kernelspec": {
   "display_name": "Python 3",
   "language": "python",
   "name": "python3"
  },
  "language_info": {
   "codemirror_mode": {
    "name": "ipython",
    "version": 3
   },
   "file_extension": ".py",
   "mimetype": "text/x-python",
   "name": "python",
   "nbconvert_exporter": "python",
   "pygments_lexer": "ipython3",
   "version": "3.6.3"
  }
 },
 "nbformat": 4,
 "nbformat_minor": 2
}
