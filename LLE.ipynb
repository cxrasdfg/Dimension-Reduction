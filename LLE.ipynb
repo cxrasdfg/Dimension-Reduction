{
 "cells": [
  {
   "cell_type": "code",
   "execution_count": 5,
   "metadata": {
    "collapsed": true
   },
   "outputs": [],
   "source": [
    "import matplotlib.pyplot as plt  \n",
    "import numpy as np\n",
    "from sklearn import datasets,decomposition,manifold\n",
    "from andylearn import mnist, KNNneighbor\n",
    "from mpl_toolkits.mplot3d import Axes3D\n",
    "#%matplotlib inline"
   ]
  },
  {
   "cell_type": "code",
   "execution_count": 6,
   "metadata": {
    "collapsed": true
   },
   "outputs": [],
   "source": [
    "def LLE(data, k, d):\n",
    "    '''\n",
    "    data is the original data. m*n(m=samples, n=dimensions)\n",
    "    '''\n",
    "    data = np.matrix(data)\n",
    "   \n",
    "    N = data.shape[0]\n",
    "    D = data.shape[1]\n",
    "    # step 1\n",
    "    # find the nearest neighbors (k). Here we get the distance from (x-y)^2\n",
    "    # distance\n",
    "    data_tmp = np.sum(np.multiply(data, data), axis=1)\n",
    "    distance=np.mat(data_tmp + data_tmp.T - 2*data*data.T)\n",
    "    \n",
    "    sort_index = np.argsort(distance,axis=1)\n",
    "\n",
    "    # k nearest neibors\n",
    "    neibors = sort_index[:,1:k+1]\n",
    "\n",
    "    # step 2\n",
    "    # weights\n",
    "    \n",
    "    W = np.zeros((N, N))\n",
    "    \n",
    "    # Gram Matrix\n",
    "    if(k > D):\n",
    "        add = 0.001\n",
    "    else:\n",
    "        add = 0\n",
    "    for i in range(N):\n",
    "        neibors_i = neibors[i].A[0]\n",
    "        G = data[neibors_i[:]] - data[i] \n",
    "        G = np.dot(G, G.T)\n",
    "        G = G + add * np.dot(np.eye(k), np.trace(G))\n",
    "        G_I = np.linalg.inv(G)\n",
    "        w_i = np.sum(G_I,axis=1) / np.sum(G_I)\n",
    "        w_i = w_i.flatten([0])    \n",
    "        W[i][neibors[i]]=w_i\n",
    "    \n",
    "    # Step 3\n",
    "    # M \n",
    "    \n",
    "    M=np.eye(N) - W\n",
    "    M=np.dot(M.T, M)\n",
    "    \n",
    "    eig_values, eig_vectors = np.linalg.eig(M)\n",
    "    \n",
    "    eig_index = np.argsort(eig_values)\n",
    "    eig_index = eig_index[1:d+1]\n",
    "    output = np.mat(eig_vectors[:,eig_index])\n",
    "    print(\"LLE done\")\n",
    "    return output"
   ]
  },
  {
   "cell_type": "code",
   "execution_count": 8,
   "metadata": {
    "collapsed": true,
    "scrolled": true
   },
   "outputs": [],
   "source": [
    "def LLE_MNIST_2D():\n",
    "    \n",
    "    data, labels = mnist.load_mnist_data(\"./data/mnist/train-images\", \"./data/mnist/train-labels\", 2000)\n",
    "    low_data= LLE(data, 8, 2)\n",
    "\n",
    "    print(\"drawing\")\n",
    "    fig = plt.figure(figsize=(10,7))\n",
    "    plotwindow = fig.add_subplot(111)\n",
    "    a = np.array(low_data)\n",
    "\n",
    "    # draw the scatters\n",
    "    color = ['green','dodgerblue','chartreuse','turquoise','orange','coral','salmon','darkgray','darkred','mediumpurple']\n",
    "    marker = [\"$0$\",\"$1$\",\"$2$\",\"$3$\",\"$4$\",\"$5$\",\"$6$\",\"$7$\",\"$8$\",\"$9$\"]\n",
    "    for j in range(len(low_data)):\n",
    "        plt.scatter(a[j][0], a[j][1],s=40, c=color[labels[j]],marker=marker[labels[j]])\n",
    "    plt.show()\n",
    "#LLE_MNIST_2D()"
   ]
  },
  {
   "cell_type": "code",
   "execution_count": 11,
   "metadata": {
    "scrolled": false
   },
   "outputs": [
    {
     "name": "stdout",
     "output_type": "stream",
     "text": [
      "data loaded\n",
      "LLE done\n",
      "0.824\n"
     ]
    }
   ],
   "source": [
    "def LLE_MNIST_Acuracy():\n",
    "    data, labels = mnist.load_mnist_data(\"./data/mnist/train-images\", \"./data/mnist/train-labels\", 2000)\n",
    "    low_data= LLE(data, 8, 10)\n",
    "    s=neighbor.accuracy(low_data[0:1000], labels[0:1000], low_data[1000:2000], labels[1000:2000], 1)\n",
    "    print(s)\n",
    "LLE_MNIST_Acuracy()"
   ]
  },
  {
   "cell_type": "code",
   "execution_count": null,
   "metadata": {
    "collapsed": true
   },
   "outputs": [],
   "source": []
  }
 ],
 "metadata": {
  "kernelspec": {
   "display_name": "Python 3",
   "language": "python",
   "name": "python3"
  },
  "language_info": {
   "codemirror_mode": {
    "name": "ipython",
    "version": 3
   },
   "file_extension": ".py",
   "mimetype": "text/x-python",
   "name": "python",
   "nbconvert_exporter": "python",
   "pygments_lexer": "ipython3",
   "version": "3.6.2"
  }
 },
 "nbformat": 4,
 "nbformat_minor": 2
}
