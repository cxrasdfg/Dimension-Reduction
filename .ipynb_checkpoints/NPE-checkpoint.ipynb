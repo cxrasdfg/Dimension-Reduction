{
 "cells": [
  {
   "cell_type": "code",
   "execution_count": 3,
   "metadata": {},
   "outputs": [],
   "source": [
    "import matplotlib.pyplot as plt  \n",
    "import numpy as np\n",
    "from sklearn import datasets,decomposition,manifold\n",
    "import sklearn.neighbors as nb\n",
    "import scipy.io as sio\n",
    "import struct\n",
    "from mpl_toolkits.mplot3d import Axes3D\n",
    "#%matplotlib inline"
   ]
  },
  {
   "cell_type": "code",
   "execution_count": 4,
   "metadata": {},
   "outputs": [
    {
     "data": {
      "image/png": "[encoded data removed]",
      "text/plain": [
       "<matplotlib.figure.Figure at 0x10cd1da58>"
      ]
     },
     "metadata": {},
     "output_type": "display_data"
    }
   ],
   "source": [
    "def loadPGM(name):\n",
    "    \n",
    "    original_data_file = open(name,\"rb\")\n",
    "    data_buff = original_data_file.read()\n",
    "\n",
    "\n",
    "    data_index = 0\n",
    "    s = struct.unpack_from('>14c',data_buff, data_index)\n",
    "    data_index += struct.calcsize('>14c')\n",
    "\n",
    "    m = struct.unpack_from('>10304B',data_buff, data_index)\n",
    "    m = np.mat(m)\n",
    " \n",
    "    return m\n",
    "\n",
    "\n",
    "\n",
    "data = loadPGM(\"orl_faces/s1/1.pgm\")\n",
    "data = data.reshape(112, 92)\n",
    "fig = plt.figure()\n",
    "plotwindow = fig.add_subplot(111)\n",
    "plt.imshow(data, cmap='gray')\n",
    "plt.show()\n"
   ]
  },
  {
   "cell_type": "code",
   "execution_count": 5,
   "metadata": {},
   "outputs": [
    {
     "name": "stdout",
     "output_type": "stream",
     "text": [
      "(400, 1024)\n"
     ]
    },
    {
     "data": {
      "image/png": "[encoded data removed]",
      "text/plain": [
       "<matplotlib.figure.Figure at 0x110d0b160>"
      ]
     },
     "metadata": {},
     "output_type": "display_data"
    }
   ],
   "source": [
    "data=sio.loadmat(\"faces/ORL_32x32.mat\")\n",
    "face = data['fea']\n",
    "label = data['gnd']\n",
    "print(face.shape)\n",
    "\n",
    "image = face[0]\n",
    "image = image.reshape(32, 32)\n",
    "image = image.T\n",
    "fig = plt.figure()\n",
    "plotwindow = fig.add_subplot(111)\n",
    "plt.imshow(image, cmap='gray')\n",
    "plt.show()"
   ]
  },
  {
   "cell_type": "code",
   "execution_count": 6,
   "metadata": {},
   "outputs": [],
   "source": [
    "def NPE(data, k, d):\n",
    "    '''\n",
    "    data is the original data. m*n(m=samples, n=dimensions)\n",
    "    '''\n",
    "    print(\"computing weights\")\n",
    "    data = np.matrix(data)\n",
    "   \n",
    "    N = data.shape[0]\n",
    "    D = data.shape[1]\n",
    "    # step 1\n",
    "    # find the nearest neighbors (k). Here we get the distance from (x-y)^2\n",
    "    # distance\n",
    "    data_tmp = np.sum(np.multiply(data, data), axis=1)\n",
    "    distance=np.mat(data_tmp + data_tmp.T - 2*data*data.T)\n",
    "    \n",
    "    sort_index = np.argsort(distance,axis=1)\n",
    "\n",
    "    # k nearest neibors\n",
    "    neibors = sort_index[:,1:k+1]\n",
    "\n",
    "    # step 2\n",
    "    # weights\n",
    "    \n",
    "    W = np.zeros((N, N))\n",
    "    \n",
    "    # Gram Matrix\n",
    "    \n",
    "    if(k > D):\n",
    "        add = 0.001\n",
    "    else:\n",
    "        add = 0.000001\n",
    "    \n",
    "    for i in range(N):\n",
    "        neibors_i = neibors[i].A[0]\n",
    "        G = data[neibors_i[:]] - data[i] \n",
    "        G = np.dot(G, G.T)\n",
    "        G = G + add * np.dot(np.eye(k), np.trace(G))\n",
    "        G_I = G.I\n",
    "        w_i = np.sum(G_I,axis=1) / np.sum(G_I)\n",
    "        w_i = w_i.flatten([0])    \n",
    "        W[i][neibors[i]]=w_i\n",
    "    \n",
    "    # Step 3\n",
    "    # M \n",
    "    \n",
    "    print(\"computing M\")\n",
    "    M=np.eye(N,N) - W\n",
    "    M=np.dot(M.T, M)\n",
    "    print(\"computing eig\")\n",
    "    \n",
    "    X = np.dot(np.dot(data.T, data).I, np.dot(np.dot(data.T, M), data))\n",
    "    eig_values, eig_vectors = np.linalg.eig(X)\n",
    "\n",
    "    eig_index = np.argsort(eig_values)\n",
    "    eig_index = eig_index[0:d]\n",
    "    mapping = np.mat(eig_vectors[:,eig_index])\n",
    "    mapping = mapping\n",
    "    print(\"mapping done\")\n",
    "\n",
    "    return mapping"
   ]
  },
  {
   "cell_type": "code",
   "execution_count": null,
   "metadata": {},
   "outputs": [
    {
     "name": "stdout",
     "output_type": "stream",
     "text": [
      "(400, 10304)\n",
      "[[  48.   49.   45. ...,   47.   46.   46.]\n",
      " [  60.   60.   62. ...,   32.   34.   34.]\n",
      " [  39.   44.   53. ...,   29.   26.   29.]\n",
      " ..., \n",
      " [ 125.  119.  124. ...,   36.   39.   40.]\n",
      " [ 119.  120.  120. ...,   89.   94.   85.]\n",
      " [ 125.  124.  124. ...,   36.   35.   34.]]\n",
      "computing weights\n",
      "computing M\n",
      "computing eig"
     ]
    }
   ],
   "source": [
    "def feature_face():\n",
    "    data=np.zeros((400, 10304))\n",
    "    print(data.shape)\n",
    "    for i in range(40):\n",
    "        for j in range(10):\n",
    "            data[i*10+j]=loadPGM(\"orl_faces/s\"+str(i+1)+\"/\"+str(j+1)+\".pgm\")\n",
    "    print(data)\n",
    "    mapping = NPE(data, 5, 50*50)\n",
    "    print(mapping.shape)\n",
    "    tmp = mapping[0]\n",
    "    tmp=(tmp-tmp.min())*(1/(tmp.max()-tmp.min()))*255\n",
    "    tmp=tmp.astype(int)\n",
    "    tmp=tmp.reshape(50, 50)\n",
    "    fig = plt.figure()\n",
    "    plotwindow = fig.add_subplot(111)\n",
    "    plt.imshow(tmp.T, cmap='gray')\n",
    "    plt.show()\n",
    "    \n",
    "feature_face()"
   ]
  },
  {
   "cell_type": "code",
   "execution_count": 143,
   "metadata": {},
   "outputs": [
    {
     "name": "stderr",
     "output_type": "stream",
     "text": [
      "/usr/local/lib/python3.6/site-packages/ipykernel_launcher.py:4: ComplexWarning: Casting complex values to real discards the imaginary part\n",
      "  after removing the cwd from sys.path.\n"
     ]
    },
    {
     "data": {
      "image/png": "[encoded data removed]",
      "text/plain": [
       "<matplotlib.figure.Figure at 0x1029820f0>"
      ]
     },
     "metadata": {},
     "output_type": "display_data"
    }
   ],
   "source": [
    "mapping = NPE(face, 10, 32*32)\n",
    "print(mapping.shape)\n",
    "\n",
    "tmp = mapping[0]\n",
    "tmp=(tmp-tmp.min())*(1/(tmp.max()-tmp.min()))*255\n",
    "tmp=tmp.astype(int)\n",
    "tmp=tmp.reshape(32, 32)\n",
    "fig = plt.figure()\n",
    "plotwindow = fig.add_subplot(111)\n",
    "plt.imshow(tmp.T, cmap='gray')\n",
    "plt.show()"
   ]
  },
  {
   "cell_type": "code",
   "execution_count": null,
   "metadata": {},
   "outputs": [],
   "source": [
    "for i in range(400):\n",
    "    "
   ]
  },
  {
   "cell_type": "code",
   "execution_count": null,
   "metadata": {},
   "outputs": [],
   "source": []
  }
 ],
 "metadata": {
  "kernelspec": {
   "display_name": "Python 3",
   "language": "python",
   "name": "python3"
  }
 },
 "nbformat": 4,
 "nbformat_minor": 2
}
