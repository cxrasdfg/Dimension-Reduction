{
 "cells": [
  {
   "cell_type": "code",
   "execution_count": 17,
   "metadata": {
    "collapsed": true
   },
   "outputs": [],
   "source": [
    "import numpy as np\n",
    "import matplotlib.pyplot as plt\n",
    "import pylab\n",
    "import scipy.io as sio\n",
    "import scipy\n",
    "import math\n",
    "from sklearn import neighbors\n",
    "#%matplotlib inline"
   ]
  },
  {
   "cell_type": "code",
   "execution_count": 27,
   "metadata": {
    "collapsed": true
   },
   "outputs": [],
   "source": [
    "def LDE(data, label, k, d, t):\n",
    "    '''\n",
    "    data is the original data. m*n(m=samples, n=dimensions)\n",
    "    '''\n",
    "    data = np.matrix(data)\n",
    "    N = data.shape[0]\n",
    "    Dim = data.shape[1]\n",
    "    \n",
    "    # step 1\n",
    "    # find the nearest neighbors (k). Here we get the distance from (x-y)^2\n",
    "    # distance N*N\n",
    "   \n",
    "    data_tmp = np.sum(np.multiply(data, data), axis=1)\n",
    "    distance=np.mat(data_tmp + data_tmp.T - 2*data*data.T)\n",
    "    \n",
    "    # the all neibors N\n",
    "    neibors = np.argsort(distance,axis=1)\n",
    "    \n",
    "    \n",
    "    # step 2\n",
    "    # weights\n",
    "    \n",
    "    W=np.zeros([N,N])\n",
    "    D=np.zeros([N,N])\n",
    "    K=0\n",
    "    W_=np.zeros([N,N])\n",
    "    D_=np.zeros([N,N])\n",
    "    K_=0\n",
    "    for i in range(N):\n",
    "        for j in neibors[i].A[0]:\n",
    "            if(K<k and label[j]==label[i]):\n",
    "                W[i, j] = math.exp(-distance[i, j]/t)\n",
    "                W[j, i] = math.exp(-distance[i, j]/t) \n",
    "                K+=1\n",
    "            elif(K_<k and label[j]!=label[i]):\n",
    "                W_[i, j] = math.exp(-distance[i, j]/t)\n",
    "                W_[j, i] = math.exp(-distance[i, j]/t) \n",
    "                K_+=1\n",
    "            elif(K==k and K_==k):\n",
    "                break\n",
    "            else:\n",
    "                continue\n",
    "    \n",
    "    for i in range(N):\n",
    "        for j in range(N):\n",
    "            D[i, i] +=W[i, j] \n",
    "            D_[i, i] +=W_[i, j]\n",
    "    \n",
    "    # Step 3\n",
    "    # mappings \n",
    "    \n",
    "    L=D-W\n",
    "    L_=D_-W_\n",
    "    eigenValues, eigenVectors=scipy.linalg.eig(np.dot(np.dot(data.T, L_),data), np.dot(np.dot(data.T, L), data))\n",
    "    eigenValuesSort=np.argsort(-eigenValues)\n",
    "    mapping = eigenVectors[:, eigenValuesSort[0:d]].T\n",
    "    \n",
    "    return mapping"
   ]
  },
  {
   "cell_type": "code",
   "execution_count": 40,
   "metadata": {},
   "outputs": [
    {
     "ename": "FileNotFoundError",
     "evalue": "[Errno 2] No such file or directory: 'orl_faces/32_32/8Train/2.mat'",
     "output_type": "error",
     "traceback": [
      "\u001b[0;31m---------------------------------------------------------------------------\u001b[0m",
      "\u001b[0;31mFileNotFoundError\u001b[0m                         Traceback (most recent call last)",
      "\u001b[0;32m<ipython-input-40-8e7cdf0722b0>\u001b[0m in \u001b[0;36m<module>\u001b[0;34m()\u001b[0m\n\u001b[1;32m      1\u001b[0m \u001b[0mmatfn\u001b[0m \u001b[0;34m=\u001b[0m \u001b[0;34m'orl_faces/32_32/8Train/2.mat'\u001b[0m\u001b[0;34m\u001b[0m\u001b[0m\n\u001b[0;32m----> 2\u001b[0;31m \u001b[0mindex\u001b[0m \u001b[0;34m=\u001b[0m \u001b[0msio\u001b[0m\u001b[0;34m.\u001b[0m\u001b[0mloadmat\u001b[0m\u001b[0;34m(\u001b[0m\u001b[0mmatfn\u001b[0m\u001b[0;34m)\u001b[0m\u001b[0;34m\u001b[0m\u001b[0m\n\u001b[0m\u001b[1;32m      3\u001b[0m \u001b[0mtestIdx\u001b[0m \u001b[0;34m=\u001b[0m \u001b[0mindex\u001b[0m\u001b[0;34m[\u001b[0m\u001b[0;34m'testIdx'\u001b[0m\u001b[0;34m]\u001b[0m \u001b[0;34m-\u001b[0m\u001b[0;36m1\u001b[0m\u001b[0;34m\u001b[0m\u001b[0m\n\u001b[1;32m      4\u001b[0m \u001b[0mtrainIdx\u001b[0m \u001b[0;34m=\u001b[0m \u001b[0mindex\u001b[0m\u001b[0;34m[\u001b[0m\u001b[0;34m'trainIdx'\u001b[0m\u001b[0;34m]\u001b[0m \u001b[0;34m-\u001b[0m\u001b[0;36m1\u001b[0m\u001b[0;34m\u001b[0m\u001b[0m\n\u001b[1;32m      5\u001b[0m \u001b[0;34m\u001b[0m\u001b[0m\n",
      "\u001b[0;32m~/anaconda3/lib/python3.6/site-packages/scipy/io/matlab/mio.py\u001b[0m in \u001b[0;36mloadmat\u001b[0;34m(file_name, mdict, appendmat, **kwargs)\u001b[0m\n\u001b[1;32m    133\u001b[0m     \"\"\"\n\u001b[1;32m    134\u001b[0m     \u001b[0mvariable_names\u001b[0m \u001b[0;34m=\u001b[0m \u001b[0mkwargs\u001b[0m\u001b[0;34m.\u001b[0m\u001b[0mpop\u001b[0m\u001b[0;34m(\u001b[0m\u001b[0;34m'variable_names'\u001b[0m\u001b[0;34m,\u001b[0m \u001b[0;32mNone\u001b[0m\u001b[0;34m)\u001b[0m\u001b[0;34m\u001b[0m\u001b[0m\n\u001b[0;32m--> 135\u001b[0;31m     \u001b[0mMR\u001b[0m \u001b[0;34m=\u001b[0m \u001b[0mmat_reader_factory\u001b[0m\u001b[0;34m(\u001b[0m\u001b[0mfile_name\u001b[0m\u001b[0;34m,\u001b[0m \u001b[0mappendmat\u001b[0m\u001b[0;34m,\u001b[0m \u001b[0;34m**\u001b[0m\u001b[0mkwargs\u001b[0m\u001b[0;34m)\u001b[0m\u001b[0;34m\u001b[0m\u001b[0m\n\u001b[0m\u001b[1;32m    136\u001b[0m     \u001b[0mmatfile_dict\u001b[0m \u001b[0;34m=\u001b[0m \u001b[0mMR\u001b[0m\u001b[0;34m.\u001b[0m\u001b[0mget_variables\u001b[0m\u001b[0;34m(\u001b[0m\u001b[0mvariable_names\u001b[0m\u001b[0;34m)\u001b[0m\u001b[0;34m\u001b[0m\u001b[0m\n\u001b[1;32m    137\u001b[0m     \u001b[0;32mif\u001b[0m \u001b[0mmdict\u001b[0m \u001b[0;32mis\u001b[0m \u001b[0;32mnot\u001b[0m \u001b[0;32mNone\u001b[0m\u001b[0;34m:\u001b[0m\u001b[0;34m\u001b[0m\u001b[0m\n",
      "\u001b[0;32m~/anaconda3/lib/python3.6/site-packages/scipy/io/matlab/mio.py\u001b[0m in \u001b[0;36mmat_reader_factory\u001b[0;34m(file_name, appendmat, **kwargs)\u001b[0m\n\u001b[1;32m     56\u001b[0m        \u001b[0mtype\u001b[0m \u001b[0mdetected\u001b[0m \u001b[0;32min\u001b[0m\u001b[0;31m \u001b[0m\u001b[0;31m`\u001b[0m\u001b[0mfilename\u001b[0m\u001b[0;31m`\u001b[0m\u001b[0;34m.\u001b[0m\u001b[0;34m\u001b[0m\u001b[0m\n\u001b[1;32m     57\u001b[0m     \"\"\"\n\u001b[0;32m---> 58\u001b[0;31m     \u001b[0mbyte_stream\u001b[0m \u001b[0;34m=\u001b[0m \u001b[0m_open_file\u001b[0m\u001b[0;34m(\u001b[0m\u001b[0mfile_name\u001b[0m\u001b[0;34m,\u001b[0m \u001b[0mappendmat\u001b[0m\u001b[0;34m)\u001b[0m\u001b[0;34m\u001b[0m\u001b[0m\n\u001b[0m\u001b[1;32m     59\u001b[0m     \u001b[0mmjv\u001b[0m\u001b[0;34m,\u001b[0m \u001b[0mmnv\u001b[0m \u001b[0;34m=\u001b[0m \u001b[0mget_matfile_version\u001b[0m\u001b[0;34m(\u001b[0m\u001b[0mbyte_stream\u001b[0m\u001b[0;34m)\u001b[0m\u001b[0;34m\u001b[0m\u001b[0m\n\u001b[1;32m     60\u001b[0m     \u001b[0;32mif\u001b[0m \u001b[0mmjv\u001b[0m \u001b[0;34m==\u001b[0m \u001b[0;36m0\u001b[0m\u001b[0;34m:\u001b[0m\u001b[0;34m\u001b[0m\u001b[0m\n",
      "\u001b[0;32m~/anaconda3/lib/python3.6/site-packages/scipy/io/matlab/mio.py\u001b[0m in \u001b[0;36m_open_file\u001b[0;34m(file_like, appendmat)\u001b[0m\n\u001b[1;32m     21\u001b[0m     \u001b[0;32mif\u001b[0m \u001b[0misinstance\u001b[0m\u001b[0;34m(\u001b[0m\u001b[0mfile_like\u001b[0m\u001b[0;34m,\u001b[0m \u001b[0mstring_types\u001b[0m\u001b[0;34m)\u001b[0m\u001b[0;34m:\u001b[0m\u001b[0;34m\u001b[0m\u001b[0m\n\u001b[1;32m     22\u001b[0m         \u001b[0;32mtry\u001b[0m\u001b[0;34m:\u001b[0m\u001b[0;34m\u001b[0m\u001b[0m\n\u001b[0;32m---> 23\u001b[0;31m             \u001b[0;32mreturn\u001b[0m \u001b[0mopen\u001b[0m\u001b[0;34m(\u001b[0m\u001b[0mfile_like\u001b[0m\u001b[0;34m,\u001b[0m \u001b[0;34m'rb'\u001b[0m\u001b[0;34m)\u001b[0m\u001b[0;34m\u001b[0m\u001b[0m\n\u001b[0m\u001b[1;32m     24\u001b[0m         \u001b[0;32mexcept\u001b[0m \u001b[0mIOError\u001b[0m \u001b[0;32mas\u001b[0m \u001b[0me\u001b[0m\u001b[0;34m:\u001b[0m\u001b[0;34m\u001b[0m\u001b[0m\n\u001b[1;32m     25\u001b[0m             \u001b[0;32mif\u001b[0m \u001b[0mappendmat\u001b[0m \u001b[0;32mand\u001b[0m \u001b[0;32mnot\u001b[0m \u001b[0mfile_like\u001b[0m\u001b[0;34m.\u001b[0m\u001b[0mendswith\u001b[0m\u001b[0;34m(\u001b[0m\u001b[0;34m'.mat'\u001b[0m\u001b[0;34m)\u001b[0m\u001b[0;34m:\u001b[0m\u001b[0;34m\u001b[0m\u001b[0m\n",
      "\u001b[0;31mFileNotFoundError\u001b[0m: [Errno 2] No such file or directory: 'orl_faces/32_32/8Train/2.mat'"
     ]
    }
   ],
   "source": [
    "matfn = 'orl_faces/32_32/8Train/2.mat'\n",
    "index = sio.loadmat(matfn)\n",
    "testIdx = index['testIdx'] -1    \n",
    "trainIdx = index['trainIdx'] -1\n",
    "\n",
    "data=sio.loadmat(\"orl_faces/32_32/ORL_32x32.mat\")\n",
    "face = data['fea']\n",
    "label = data['gnd']\n",
    "label = np.squeeze(label)\n",
    "\n",
    "trainface = np.squeeze(face[trainIdx])\n",
    "testface = np.squeeze(face[testIdx])\n",
    "\n",
    "print(trainface.shape)\n",
    "print(testface.shape)\n",
    "\n",
    "#mapping = LDE(face/255, label, 20, 21, 5)"
   ]
  },
  {
   "cell_type": "code",
   "execution_count": 33,
   "metadata": {},
   "outputs": [
    {
     "name": "stdout",
     "output_type": "stream",
     "text": [
      "[[  2.20494171e-02  -3.02434712e-01  -5.96662886e-02 ...,   1.00412515e-01\n",
      "    2.40076622e-02  -2.15666644e-01]\n",
      " [  2.20494171e-02  -3.02434712e-01  -5.96662886e-02 ...,   1.00412515e-01\n",
      "    2.40076622e-02  -2.15666644e-01]\n",
      " [  2.20494171e-02  -3.02434712e-01  -5.96662886e-02 ...,   1.00412515e-01\n",
      "    2.40076622e-02  -2.15666644e-01]\n",
      " ..., \n",
      " [  2.39450631e+01  -9.79892194e+00  -2.04038832e+01 ...,  -9.63924715e+00\n",
      "    2.37276629e+01   3.88223623e+01]\n",
      " [  1.53652274e+01   1.02315965e+01  -3.00989955e+00 ...,  -9.03387529e-01\n",
      "    7.17514518e+00   2.90951422e+01]\n",
      " [  1.38067917e+01  -1.09885052e+01  -5.42659892e+00 ...,  -5.69048231e+00\n",
      "    1.08004303e+01   1.38994607e-01]]\n"
     ]
    }
   ],
   "source": [
    "print(np.dot(face, mapping.T))\n"
   ]
  },
  {
   "cell_type": "code",
   "execution_count": null,
   "metadata": {
    "collapsed": true
   },
   "outputs": [],
   "source": []
  }
 ],
 "metadata": {
  "kernelspec": {
   "display_name": "Python 3",
   "language": "python",
   "name": "python3"
  },
  "language_info": {
   "codemirror_mode": {
    "name": "ipython",
    "version": 3
   },
   "file_extension": ".py",
   "mimetype": "text/x-python",
   "name": "python",
   "nbconvert_exporter": "python",
   "pygments_lexer": "ipython3",
   "version": "3.6.3"
  }
 },
 "nbformat": 4,
 "nbformat_minor": 2
}
