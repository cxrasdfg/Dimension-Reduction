{
 "cells": [
  {
   "cell_type": "code",
   "execution_count": 1,
   "metadata": {
    "collapsed": true
   },
   "outputs": [],
   "source": [
    "from andylearn import mnist, KNNneighbor, PCA\n",
    "import matplotlib.pyplot as plt  \n",
    "import numpy as np\n",
    "import scipy.io as sio\n",
    "import math\n",
    "import pylab\n",
    "#%matplotlib inline\n",
    "#%pylab inline"
   ]
  },
  {
   "cell_type": "code",
   "execution_count": 8,
   "metadata": {
    "collapsed": true
   },
   "outputs": [],
   "source": [
    "def LPP(data, k, d, ):\n",
    "    '''\n",
    "    data is the original data. m*n(m=samples, n=dimensions)\n",
    "    '''\n",
    "    data = np.matrix(data)\n",
    "    N = data.shape[0]\n",
    "    Dim = data.shape[1]\n",
    "    \n",
    "    # step 1\n",
    "    # find the nearest neighbors (k). Here we get the distance from (x-y)^2\n",
    "    # distance N*N\n",
    "   \n",
    "    data_tmp = np.sum(np.multiply(data, data), axis=1)\n",
    "    distance=np.mat(data_tmp + data_tmp.T - 2*data*data.T)\n",
    "    sort_index = np.argsort(distance,axis=1)\n",
    "    # k nearest neibors\n",
    "    neibors = sort_index[:,1:k+1]\n",
    "    \n",
    "    # step 2\n",
    "    # weights\n",
    "    \n",
    "    W=np.zeros([N,N])\n",
    "    D=np.zeros([N,N])\n",
    "    for i in range(N):\n",
    "        for j in neibors[i].A[0]:\n",
    "            W[i, j] = math.exp(-distance[i, j]/40)\n",
    "            W[j, i] = W[i, j]\n",
    "    \n",
    "    for i in range(N):\n",
    "        for j in range(N):\n",
    "            D[i, i] = W[i, j]\n",
    "    \n",
    "    # Step 3\n",
    "    # mappings \n",
    "    \n",
    "    L=D-W\n",
    "    D_ = np.dot(np.dot(data.T, D), data)\n",
    "    D_ = D_ + 0.000000001 * np.eye(Dim)\n",
    "    L_ = np.dot(np.dot(data.T, L), data)\n",
    "    eigenValues, eigenVectors=np.linalg.eig(np.dot(D_.I, L_))\n",
    "    eigenValuesIndex = np.argsort(eigenValues)\n",
    "    mapping = eigenVectors[:, eigenValuesIndex[0:d]].T\n",
    "    \n",
    "    return mapping"
   ]
  },
  {
   "cell_type": "code",
   "execution_count": 10,
   "metadata": {
    "collapsed": true
   },
   "outputs": [],
   "source": [
    "def TwoD_LPP(data, k, n_1, n_2, l_1, l_2, repeatNum):\n",
    "    '''\n",
    "    data is the original data. m*n(m=samples, n=dimensions)\n",
    "    '''\n",
    "    data = np.matrix(data)\n",
    "    N = data.shape[0]\n",
    "    Dim = data.shape[1]\n",
    "    \n",
    "    # step 1\n",
    "    # find the nearest neighbors (k). Here we get the distance from (x-y)^2\n",
    "    # distance N*N\n",
    "   \n",
    "    data_tmp = np.sum(np.multiply(data, data), axis=1)\n",
    "    distance=np.mat(data_tmp + data_tmp.T - 2*data*data.T)\n",
    "    sort_index = np.argsort(distance,axis=1)\n",
    "    # k nearest neibors\n",
    "    neibors = sort_index[:,1:k+1]\n",
    "    \n",
    "    # step 2\n",
    "    # weights\n",
    "    \n",
    "    W=np.zeros([N,N])\n",
    "    D=np.zeros([N,N])\n",
    "    for i in range(N):\n",
    "        for j in neibors[i].A[0]:\n",
    "            W[i, j] = math.exp(-distance[i, j]/40)\n",
    "            W[j, i] = W[i, j]  \n",
    "   \n",
    "    \n",
    "    # Step 3\n",
    "    # mappings \n",
    "    \n",
    "    # initial L\n",
    "    L = np.ones((n_1, l_1))\n",
    "    \n",
    "    for count in range(repeatNum):\n",
    "        for i in range(N):\n",
    "            A_i = data[i, :].reshape((n_1, n_2))\n",
    "            for j in range(N):\n",
    "                A_j = data[j, :].reshape((n_1, n_2))\n",
    "                R_L = W[i, j]*np.dot(np.dot(np.dot((A_i-A_j).T, L), L.T), (A_i-A_j))\n",
    "                R_R = np.dot(np.dot(np.dot((A_i-A_j).T, L), L.T), (A_i-A_j))\n",
    "\n",
    "        eigenValues, eigenVectors=np.linalg.eig(np.dot(R_R.I, R_L))\n",
    "        eigenValuesSort=np.argsort(eigenValues)\n",
    "        R=np.mat(eigenVectors[:,eigenValuesSort[0:l_2]])\n",
    "\n",
    "        for i in range(N):\n",
    "            A_i = data[i, :].reshape((n_1, n_2))\n",
    "            for j in range(N):\n",
    "                A_j = data[j, :].reshape((n_1, n_2))\n",
    "                L_L = W[i, j]*np.dot(np.dot(np.dot((A_i-A_j).T, L), L.T), (A_i-A_j))\n",
    "                L_R = np.dot(np.dot(np.dot((A_i-A_j).T, L), L.T), (A_i-A_j))\n",
    "\n",
    "        eigenValues, eigenVectors=np.linalg.eig(np.dot(L_R.I, L_L))\n",
    "        eigenValuesSort=np.argsort(eigenValues)\n",
    "        L=np.mat(eigenVectors[:,eigenValuesSort[0:l_1]])\n",
    "    \n",
    "    return L, R"
   ]
  },
  {
   "cell_type": "code",
   "execution_count": 11,
   "metadata": {
    "collapsed": true
   },
   "outputs": [],
   "source": [
    "def Kernel_LPP(data, k, d):\n",
    "    '''\n",
    "    data is the original data. m*n(m=samples, n=dimensions)\n",
    "    '''\n",
    "    data = np.matrix(data)\n",
    "    N = data.shape[0]\n",
    "    Dim = data.shape[1]\n",
    "    \n",
    "    # step 1\n",
    "    # find the nearest neighbors (k). Here we get the distance from (x-y)^2\n",
    "    # distance N*N\n",
    "   \n",
    "    data_tmp = np.sum(np.multiply(data, data), axis=1)\n",
    "    distance=np.mat(data_tmp + data_tmp.T - 2*data*data.T)\n",
    "    sort_index = np.argsort(distance,axis=1)\n",
    "    # k nearest neibors\n",
    "    neibors = sort_index[:,1:k+1]\n",
    "    \n",
    "    # step 2\n",
    "    # weights\n",
    "    \n",
    "    W=np.zeros([N,N])\n",
    "    D=np.zeros([N,N])\n",
    "    for i in range(N):\n",
    "        for j in neibors[i].A[0]:\n",
    "            W[i, j] = math.exp(-distance[i, j]/40)\n",
    "            W[j, i] = W[i, j]  \n",
    "    for i in range(N):\n",
    "        for j in neibors[i].A[0]:\n",
    "            D[i, i] +=W[i, j]  \n",
    "    \n",
    "    # Step 3\n",
    "    # mappings \n",
    "    K=np.zeros((N, N))\n",
    "    for i in range(N):\n",
    "        for j in range(N):\n",
    "            K[i, j] = math.exp(-distance[i, j]/40)\n",
    "    \n",
    "    \n",
    "    L=D-W\n",
    "    ei_L=np.dot(np.dot(K, L), K)\n",
    "    ei_R=np.dot(np.dot(K, D), K)\n",
    "    eigenValues, eigenVectors=np.linalg.eig(np.dot(ei_R.I, ei_L))\n",
    "    eigenValuesSort=np.argsort(eigenValues)\n",
    "    mapping = eigenVectors[:, eigenValuesSort[0:d]]\n",
    "    \n",
    "    return mapping, K"
   ]
  },
  {
   "cell_type": "code",
   "execution_count": 12,
   "metadata": {
    "collapsed": true
   },
   "outputs": [],
   "source": [
    "data=sio.loadmat(\"data/orl_faces/32_32/ORL_32x32.mat\")\n",
    "face = data['fea']/256\n",
    "label = data['gnd']"
   ]
  },
  {
   "cell_type": "code",
   "execution_count": 13,
   "metadata": {},
   "outputs": [
    {
     "name": "stderr",
     "output_type": "stream",
     "text": [
      "/home/huangzhenyu/anaconda3/lib/python3.6/site-packages/ipykernel_launcher.py:9: ComplexWarning: Casting complex values to real discards the imaginary part\n",
      "  if __name__ == '__main__':\n"
     ]
    },
    {
     "data": {
      "image/png": "[encoded data removed]",
      "text/plain": [
       "<matplotlib.figure.Figure at 0x7f62b51c69e8>"
      ]
     },
     "metadata": {},
     "output_type": "display_data"
    }
   ],
   "source": [
    "def LPP_faces():\n",
    "    matfn = 'data/orl_faces/32_32/4Train/1.mat'\n",
    "    index = sio.loadmat(matfn)\n",
    "    testIdx = index['testIdx'] -1    \n",
    "    trainIdx = index['trainIdx'] -1  \n",
    "    trainface = face[trainIdx]\n",
    "    mapping = LPP(trainface, 7, 8)\n",
    "    tmp=mapping[1]\n",
    "    tmp=tmp.reshape(32, 32).astype(float)\n",
    "    pylab.imshow(tmp.T, cmap='gray', interpolation='hamming')\n",
    "    pylab.show()\n",
    "    \n",
    "LPP_faces()"
   ]
  },
  {
   "cell_type": "code",
   "execution_count": 162,
   "metadata": {
    "collapsed": true
   },
   "outputs": [],
   "source": [
    "def LPP_ORL_scatters():\n",
    "    # the first 100 samples\n",
    "    face100 = np.squeeze(face[:100])\n",
    "    label100 = np.squeeze(label[:100])\n",
    "    mapping = LPP(face100, 7, 2)\n",
    "    low_data = np.dot(mapping, face100.T).T\n",
    "    \n",
    "    fig = plt.figure(figsize=(7,5))\n",
    "    plotwindow = fig.add_subplot(111)\n",
    "    a = np.array(low_data)\n",
    "\n",
    "    # draw the scatters\n",
    "    color = ['green','dodgerblue','chartreuse','turquoise','orange','coral','salmon','darkgray','darkred','mediumpurple']\n",
    "    for j in range(len(low_data)):\n",
    "        plt.scatter(a[j][0], a[j][1],s=40, c=color[label100[j]-1])\n",
    "    plt.show()\n",
    "#LPP_ORL_scatters()"
   ]
  },
  {
   "cell_type": "code",
   "execution_count": 163,
   "metadata": {
    "collapsed": true
   },
   "outputs": [],
   "source": [
    "def LaplacianFaces(data, k, d):\n",
    "    mapping_pca, data_pca, average = PCA.PCA(data, 98)\n",
    "    mapping_lpp = LPP(data_pca, k, d)\n",
    "    return np.dot(mapping_pca, mapping_lpp.T)"
   ]
  },
  {
   "cell_type": "code",
   "execution_count": 165,
   "metadata": {
    "collapsed": true
   },
   "outputs": [],
   "source": [
    "def LP_faces():\n",
    "    matfn = 'data/orl_faces/32_32/3Train/2.mat'\n",
    "    index = sio.loadmat(matfn)\n",
    "    testIdx = index['testIdx'] -1    \n",
    "    trainIdx = index['trainIdx'] -1  \n",
    "    trainface = face[trainIdx]\n",
    "    mapping = LaplacianFaces(trainface, 5, 8)\n",
    "    tmp=mapping.T[1]\n",
    "    tmp=tmp.reshape(32, 32).astype(float)\n",
    "    pylab.imshow(tmp.T, cmap='gray', interpolation='hamming')\n",
    "    pylab.show()\n",
    "    \n",
    "#LP_faces()"
   ]
  },
  {
   "cell_type": "code",
   "execution_count": 152,
   "metadata": {
    "collapsed": true
   },
   "outputs": [],
   "source": [
    "def LPP_ORL_acuracy(l, method='' ):\n",
    "    ## 32 * 32 ORL_faces \n",
    "    s=0.0\n",
    "    for i in range(50):\n",
    "        matfn = 'data/orl_faces/32_32/'+str(l)+'Train/'+str(i+1)+'.mat'\n",
    "        index = sio.loadmat(matfn)\n",
    "        testIdx = index['testIdx'] -1  \n",
    "        trainIdx = index['trainIdx'] -1\n",
    "        \n",
    "        if(method =='LPP'):\n",
    "            #LPP      \n",
    "            trainface = np.squeeze(face[trainIdx])\n",
    "            trainlabel = np.squeeze(label[trainIdx])\n",
    "            testface = np.squeeze(face[testIdx])\n",
    "            testlabel = np.squeeze(label[testIdx]) \n",
    "            mapping = LPP(trainface, 5, 39)\n",
    "            traindata = np.dot(mapping, trainface.T)\n",
    "            testdata = np.dot(mapping, testface.T)\n",
    "            tmp=KNNneighbor.accuracy(traindata.T, trainlabel, testdata.T, testlabel, 1)\n",
    "            \n",
    "        elif(method == '2D LPP'):\n",
    "            # 2D LPP\n",
    "            mapping, face_pca, average = PCA.PCA(np.squeeze(face), 225)\n",
    "            trainface = np.squeeze(face_pca[trainIdx])\n",
    "            trainlabel = np.squeeze(label[trainIdx])\n",
    "            testface = np.squeeze(face_pca[testIdx])\n",
    "            testlabel = np.squeeze(label[testIdx])\n",
    "            L, R= TwoD_LPP(trainface, 2, 15, 15, 7, 7)\n",
    "\n",
    "            traindata = []\n",
    "            testdata = []\n",
    "            for i in range(trainface.shape[0]):\n",
    "                traindata.append(np.dot(np.dot(L.T, trainface[i].reshape(15, 15)), R).A[0])\n",
    "            for i in range(testface.shape[0]):\n",
    "                testdata.append(np.dot(np.dot(L.T, testface[i].reshape(15, 15)), R).A[0])\n",
    "\n",
    "            tmp=KNNneighbor.accuracy(traindata, trainlabel, testdata, testlabel, 1)\n",
    "            \n",
    "        elif(method == 'Kernel LPP'):\n",
    "            # kernel\n",
    "            trainface = np.squeeze(face[trainIdx])\n",
    "            trainlabel = np.squeeze(label[trainIdx])\n",
    "            testface = np.squeeze(face[testIdx])\n",
    "            testlabel = np.squeeze(label[testIdx])\n",
    "\n",
    "            mapping, K_train= Kernel_LPP(trainface, 10, 55)\n",
    "\n",
    "            K_test = np.zeros((trainface.shape[0], testface.shape[0]))\n",
    "            for i in range(trainface.shape[0]):\n",
    "                for j in range(testface.shape[0]):\n",
    "                    K_test[i, j]=math.exp(-(np.linalg.norm(trainface[i]-testface[j],ord=2))/2)\n",
    "\n",
    "            traindata = np.dot(mapping.T, K_train)\n",
    "            testdata = np.dot(mapping.T, K_test)\n",
    "            tmp=KNNneighbor.accuracy(traindata.T, trainlabel, testdata.T, testlabel, 1)\n",
    "        \n",
    "        print(tmp)\n",
    "        s+=tmp\n",
    "    return s/50\n",
    "\n",
    "#print(LPP_ORL_acuracy(6, 'LPP'))"
   ]
  }
 ],
 "metadata": {
  "kernelspec": {
   "display_name": "Python 3",
   "language": "python",
   "name": "python3"
  },
  "language_info": {
   "codemirror_mode": {
    "name": "ipython",
    "version": 3
   },
   "file_extension": ".py",
   "mimetype": "text/x-python",
   "name": "python",
   "nbconvert_exporter": "python",
   "pygments_lexer": "ipython3",
   "version": "3.6.3"
  }
 },
 "nbformat": 4,
 "nbformat_minor": 2
}
