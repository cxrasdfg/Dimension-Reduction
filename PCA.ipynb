{
 "cells": [
  {
   "cell_type": "code",
   "execution_count": 1,
   "metadata": {
    "collapsed": true
   },
   "outputs": [],
   "source": [
    "import matplotlib.pyplot as plt  \n",
    "import numpy as np\n",
    "import struct\n",
    "from andylearn import mnist, KNNneighbor\n",
    "from mpl_toolkits.mplot3d import Axes3D\n",
    "#%matplotlib inline\n",
    "\n"
   ]
  },
  {
   "cell_type": "code",
   "execution_count": 7,
   "metadata": {
    "collapsed": true
   },
   "outputs": [],
   "source": [
    "def PCA(data,dimensions):\n",
    "    '''\n",
    "    data is the original data. m*n(m=samples, n=dimensions)\n",
    "    '''\n",
    "\n",
    "    # making data zero-means\n",
    "    average = np.mean(data,0)\n",
    "    data = np.mat(data-average)\n",
    "    \n",
    "    #covariance\n",
    "    covariance = np.dot(data.T, data)\n",
    "    \n",
    "    #eigenvalues\n",
    "    eig_var,eig_vec = np.linalg.eig(covariance)\n",
    "    \n",
    "    \n",
    "    #from the numpy doc, the eig_var may not be ordered.\n",
    "    sort_eig = np.argsort(-eig_var)\n",
    "    #return the index that make a sorted array\n",
    "\n",
    "    #so we got the sorted eig_var\n",
    "    sort_eig = sort_eig[:dimensions]\n",
    "    principal_vec = eig_vec[:,sort_eig]\n",
    "    \n",
    "   \n",
    "    low_data = np.dot(data, principal_vec)\n",
    "    \n",
    "    return low_data, principal_vec, average"
   ]
  },
  {
   "cell_type": "code",
   "execution_count": 8,
   "metadata": {
    "collapsed": true
   },
   "outputs": [],
   "source": [
    "def SVD(data,dimensions):\n",
    "    '''\n",
    "    data is the original data set，rows are samples of data,columns are the features\n",
    "    '''\n",
    "\n",
    "    # making data zero-means\n",
    "    average = np.mean(data,0)\n",
    "    data_zero = data-average\n",
    "    \n",
    "    #covariance\n",
    "    covariance = np.cov(data_zero,rowvar=False)\n",
    "    \n",
    "    u,s,v = np.linalg.svd(data)\n",
    "    #s is sorted in descending order.\n",
    "    principal_vec = v.T[:,:dimensions]\n",
    "    low_data = np.mat(data_zero) * np.mat(principal_vec)\n",
    "    \n",
    "    return low_data, principal_vec, average\n"
   ]
  },
  {
   "cell_type": "markdown",
   "metadata": {},
   "source": [
    "## MNIST data to 2D"
   ]
  },
  {
   "cell_type": "code",
   "execution_count": 9,
   "metadata": {
    "collapsed": true
   },
   "outputs": [],
   "source": [
    "def PCA_MNIST_2D():\n",
    "    data, labels = mnist.load_mnist_data(\"./data/mnist/train-images\", \"./data/mnist/train-labels\", 2000)\n",
    "\n",
    "    low_data, mapping, average = PCA(data,5)\n",
    "\n",
    "    fig = plt.figure()\n",
    "    plotwindow = fig.add_subplot(111)\n",
    "    a = np.array(low_data)\n",
    "\n",
    "    # draw the scatters\n",
    "    color = ['yellowgreen','yellow','chartreuse','turquoise','orange','coral','salmon','darkgray','skyblue','mediumpurple']\n",
    "    for j in range(len(low_data)):\n",
    "        plt.scatter(a[j][0],a[j][1],c=color[labels[j]],s=10)\n",
    "\n",
    "    plt.show()"
   ]
  },
  {
   "cell_type": "code",
   "execution_count": 10,
   "metadata": {
    "collapsed": true
   },
   "outputs": [],
   "source": [
    "def PCA_MNIST_acuracy():\n",
    "    data, labels = mnist.load_mnist_data(\"./data/mnist/train-images\", \"./data/mnist/train-labels\", 2000)\n",
    "    for i in range(2,22):\n",
    "        low_data, mapping, average = PCA(data,i)\n",
    "        s = neighbor.accuracy(low_data[0:1000], labels[0:1000], low_data[1000:2000], labels[1000:2000], 1)\n",
    "        print(\"features\",i)\n",
    "        print(\"KNN score\",s)"
   ]
  },
  {
   "cell_type": "code",
   "execution_count": 11,
   "metadata": {
    "collapsed": true
   },
   "outputs": [],
   "source": [
    "def PCA_MNIST_3D():\n",
    "    data, labels= mnist.load_mnist_data(\"./data/mnist/test-images\", \"./data/mnist/test-labels\", 2000)\n",
    "    low_data, mapping, average= PCA(data,3)\n",
    "    a = np.array(low_data)\n",
    "    ax = plt.figure().add_subplot(111, projection = '3d')  \n",
    "    # draw the scatters\n",
    "\n",
    "    for j in range(len(low_data)): \n",
    "        ax.scatter(a[j][0],a[j][1],a[j][2], c=color[labels[j]],s=5) #点为红色三角形  \n",
    "    plt.show()\n",
    "    "
   ]
  }
 ],
 "metadata": {
  "kernelspec": {
   "display_name": "Python 3",
   "language": "python",
   "name": "python3"
  },
  "language_info": {
   "codemirror_mode": {
    "name": "ipython",
    "version": 3
   },
   "file_extension": ".py",
   "mimetype": "text/x-python",
   "name": "python",
   "nbconvert_exporter": "python",
   "pygments_lexer": "ipython3",
   "version": "3.6.3"
  }
 },
 "nbformat": 4,
 "nbformat_minor": 2
}
